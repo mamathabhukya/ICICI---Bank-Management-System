{
  "nbformat": 4,
  "nbformat_minor": 0,
  "metadata": {
    "colab": {
      "provenance": [],
      "authorship_tag": "ABX9TyPgpZvhgV5lDctT4K4k4+QJ",
      "include_colab_link": true
    },
    "kernelspec": {
      "name": "python3",
      "display_name": "Python 3"
    },
    "language_info": {
      "name": "python"
    }
  },
  "cells": [
    {
      "cell_type": "markdown",
      "metadata": {
        "id": "view-in-github",
        "colab_type": "text"
      },
      "source": [
        "<a href=\"https://colab.research.google.com/github/mamathabhukya/ICICI---Bank-Management-System/blob/main/ICICI_Bank_management_system_project.ipynb\" target=\"_parent\"><img src=\"https://colab.research.google.com/assets/colab-badge.svg\" alt=\"Open In Colab\"/></a>"
      ]
    },
    {
      "cell_type": "markdown",
      "source": [
        " ICICI bank management system in Python would require a substantial project with many features, including customer management, account management, transactions, loan processing, and more.\n",
        "\n",
        "\n",
        " Below, I'll provide a simplified console-based Python code snippet for an ICICI bank management system that covers account creation, deposit, withdrawal, balance inquiry, and account management."
      ],
      "metadata": {
        "id": "DvXHSqmwf-DE"
      }
    },
    {
      "cell_type": "code",
      "execution_count": null,
      "metadata": {
        "colab": {
          "base_uri": "https://localhost:8080/"
        },
        "id": "necAL_c-f17f",
        "outputId": "9f4ae8c7-6f13-4c8d-e210-5a051c93fb62"
      },
      "outputs": [
        {
          "output_type": "stream",
          "name": "stdout",
          "text": [
            "\n",
            "ICICI Bank Management System Menu:\n",
            "1. Account Management\n",
            "2. Exit\n",
            "Enter your choice: 1\n",
            "\n",
            "Account Management Menu:\n",
            "1. Create Account\n",
            "2. Deposit\n",
            "3. Withdraw\n",
            "4. Check Balance\n",
            "5. Exit to Main Menu\n",
            "Enter your choice: 2\n",
            "Enter account number: 1234\n",
            "Enter the deposit amount: 345\n",
            "Account does not exist.\n"
          ]
        }
      ],
      "source": [
        "class Bank:\n",
        "    def __init__(self):\n",
        "        self.accounts = {}  # Dictionary to store account information\n",
        "\n",
        "    def create_account(self, account_number, name, initial_balance):\n",
        "        if account_number in self.accounts:\n",
        "            print(\"Account already exists.\")\n",
        "        else:\n",
        "            self.accounts[account_number] = {\n",
        "                'name': name,\n",
        "                'balance': initial_balance\n",
        "            }\n",
        "            print(\"Account created successfully.\")\n",
        "\n",
        "    def deposit(self, account_number, amount):\n",
        "        if account_number in self.accounts:\n",
        "            self.accounts[account_number]['balance'] += amount\n",
        "            print(f\"Deposit successful. New balance: {self.accounts[account_number]['balance']}\")\n",
        "        else:\n",
        "            print(\"Account does not exist.\")\n",
        "\n",
        "    def withdraw(self, account_number, amount):\n",
        "        if account_number in self.accounts:\n",
        "            if self.accounts[account_number]['balance'] >= amount:\n",
        "                self.accounts[account_number]['balance'] -= amount\n",
        "                print(f\"Withdrawal successful. New balance: {self.accounts[account_number]['balance']}\")\n",
        "            else:\n",
        "                print(\"Insufficient balance.\")\n",
        "        else:\n",
        "            print(\"Account does not exist.\")\n",
        "\n",
        "    def check_balance(self, account_number):\n",
        "        if account_number in self.accounts:\n",
        "            balance = self.accounts[account_number]['balance']\n",
        "            print(f\"Account balance: {balance}\")\n",
        "        else:\n",
        "            print(\"Account does not exist.\")\n",
        "\n",
        "    def account_management(self):\n",
        "        print(\"\\nAccount Management Menu:\")\n",
        "        print(\"1. Create Account\")\n",
        "        print(\"2. Deposit\")\n",
        "        print(\"3. Withdraw\")\n",
        "        print(\"4. Check Balance\")\n",
        "        print(\"5. Exit to Main Menu\")\n",
        "\n",
        "        while True:\n",
        "            choice = input(\"Enter your choice: \")\n",
        "\n",
        "            if choice == '1':\n",
        "                account_number = input(\"Enter account number: \")\n",
        "                name = input(\"Enter account holder's name: \")\n",
        "                initial_balance = float(input(\"Enter initial balance: \"))\n",
        "                self.create_account(account_number, name, initial_balance)\n",
        "\n",
        "            elif choice == '2':\n",
        "                account_number = input(\"Enter account number: \")\n",
        "                amount = float(input(\"Enter the deposit amount: \"))\n",
        "                self.deposit(account_number, amount)\n",
        "\n",
        "            elif choice == '3':\n",
        "                account_number = input(\"Enter account number: \")\n",
        "                amount = float(input(\"Enter the withdrawal amount: \"))\n",
        "                self.withdraw(account_number, amount)\n",
        "\n",
        "            elif choice == '4':\n",
        "                account_number = input(\"Enter account number: \")\n",
        "                self.check_balance(account_number)\n",
        "\n",
        "            elif choice == '5':\n",
        "                print(\"Exiting Account Management.\")\n",
        "                break\n",
        "\n",
        "            else:\n",
        "                print(\"Invalid choice. Please try again.\")\n",
        "\n",
        "\n",
        "# Initialize the ICICI bank management system\n",
        "icici_bank = Bank()\n",
        "\n",
        "while True:\n",
        "    print(\"\\nICICI Bank Management System Menu:\")\n",
        "    print(\"1. Account Management\")\n",
        "    print(\"2. Exit\")\n",
        "\n",
        "    main_choice = input(\"Enter your choice: \")\n",
        "\n",
        "    if main_choice == '1':\n",
        "        icici_bank.account_management()\n",
        "\n",
        "    elif main_choice == '2':\n",
        "        print(\"Exiting the ICICI Bank Management System.\")\n",
        "        break\n",
        "\n",
        "    else:\n",
        "        print(\"Invalid choice. Please try again.\")\n",
        "        break\n",
        "\n",
        "\n",
        "\n"
      ]
    }
  ]
}